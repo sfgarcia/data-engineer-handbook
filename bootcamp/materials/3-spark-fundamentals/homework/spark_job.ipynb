{
 "cells": [
  {
   "cell_type": "code",
   "execution_count": 1,
   "metadata": {},
   "outputs": [
    {
     "name": "stderr",
     "output_type": "stream",
     "text": [
      "24/12/07 18:18:57 WARN SparkSession: Using an existing Spark session; only runtime SQL configurations will take effect.\n"
     ]
    }
   ],
   "source": [
    "from pyspark.sql import SparkSession\n",
    "\n",
    "spark = SparkSession.builder \\\n",
    "    .appName(\"spark_job\") \\\n",
    "    .config(\"spark.sql.autoBroadcastJoinThreshold\", '-1') \\\n",
    "    .config(\"spark.sql.bucketingEnabled\", \"true\") \\\n",
    "    .getOrCreate()"
   ]
  },
  {
   "cell_type": "code",
   "execution_count": 47,
   "metadata": {},
   "outputs": [],
   "source": [
    "match_details = spark.read.csv(\"../../data/match_details.csv\", header=True, inferSchema=True)\n",
    "matches = spark.read.csv(\"../../data/matches.csv\", header=True, inferSchema=True)\n",
    "medal_matches_players = spark.read.csv(\"../../data/medals_matches_players.csv\", header=True, inferSchema=True)\n",
    "medals = spark.read.csv(\"../../data/medals.csv\", header=True, inferSchema=True)"
   ]
  },
  {
   "cell_type": "markdown",
   "metadata": {},
   "source": [
    "### Crear las tablas bucketizadas"
   ]
  },
  {
   "cell_type": "code",
   "execution_count": 3,
   "metadata": {},
   "outputs": [
    {
     "data": {
      "text/plain": [
       "DataFrame[]"
      ]
     },
     "execution_count": 3,
     "metadata": {},
     "output_type": "execute_result"
    }
   ],
   "source": [
    "spark.sql(\"\"\"DROP TABLE IF EXISTS bootcamp.match_details_bucketed\"\"\")"
   ]
  },
  {
   "cell_type": "code",
   "execution_count": 4,
   "metadata": {},
   "outputs": [
    {
     "name": "stderr",
     "output_type": "stream",
     "text": [
      "                                                                                \r"
     ]
    }
   ],
   "source": [
    "match_details.select(\"match_id\", \"player_gamertag\", \"player_total_kills\") \\\n",
    "    .write.mode(\"append\") \\\n",
    "    .bucketBy(16, \"match_id\") \\\n",
    "    .saveAsTable(\"bootcamp.match_details_bucketed\")"
   ]
  },
  {
   "cell_type": "code",
   "execution_count": 5,
   "metadata": {},
   "outputs": [
    {
     "data": {
      "text/plain": [
       "DataFrame[]"
      ]
     },
     "execution_count": 5,
     "metadata": {},
     "output_type": "execute_result"
    }
   ],
   "source": [
    "spark.sql(\"\"\"DROP TABLE IF EXISTS bootcamp.matches_bucketed\"\"\")"
   ]
  },
  {
   "cell_type": "code",
   "execution_count": 6,
   "metadata": {},
   "outputs": [
    {
     "name": "stderr",
     "output_type": "stream",
     "text": [
      "                                                                                \r"
     ]
    }
   ],
   "source": [
    "matches.select(\"match_id\", \"mapid\", \"playlist_id\") \\\n",
    "    .write.mode(\"append\") \\\n",
    "    .bucketBy(16, \"match_id\") \\\n",
    "    .saveAsTable(\"bootcamp.matches_bucketed\")"
   ]
  },
  {
   "cell_type": "code",
   "execution_count": 7,
   "metadata": {},
   "outputs": [
    {
     "data": {
      "text/plain": [
       "DataFrame[]"
      ]
     },
     "execution_count": 7,
     "metadata": {},
     "output_type": "execute_result"
    }
   ],
   "source": [
    "spark.sql(\"\"\"DROP TABLE IF EXISTS bootcamp.medal_matches_players_bucketed\"\"\")"
   ]
  },
  {
   "cell_type": "code",
   "execution_count": 8,
   "metadata": {},
   "outputs": [
    {
     "name": "stderr",
     "output_type": "stream",
     "text": [
      "                                                                                \r"
     ]
    }
   ],
   "source": [
    "medal_matches_players.select(\"match_id\", \"player_gamertag\", \"medal_id\", \"count\") \\\n",
    "    .write.mode(\"append\") \\\n",
    "    .bucketBy(16, \"match_id\") \\\n",
    "    .saveAsTable(\"bootcamp.medal_matches_players_bucketed\")"
   ]
  },
  {
   "cell_type": "code",
   "execution_count": 24,
   "metadata": {},
   "outputs": [
    {
     "name": "stdout",
     "output_type": "stream",
     "text": [
      "+--------------------+---------------+----------+-----+\n",
      "|            match_id|player_gamertag|  medal_id|count|\n",
      "+--------------------+---------------+----------+-----+\n",
      "|009fdac5-e15c-47c...|       EcZachly|3261908037|    7|\n",
      "|009fdac5-e15c-47c...|       EcZachly| 824733727|    2|\n",
      "|009fdac5-e15c-47c...|       EcZachly|2078758684|    2|\n",
      "|009fdac5-e15c-47c...|       EcZachly|2782465081|    2|\n",
      "|9169d1a3-955c-4ea...|       EcZachly|3001183151|    1|\n",
      "|9169d1a3-955c-4ea...|       EcZachly|3565443938|    6|\n",
      "|9169d1a3-955c-4ea...|       EcZachly|3491849182|    1|\n",
      "|4a078b2f-65eb-4c6...|       EcZachly|3261908037|    8|\n",
      "|9169d1a3-955c-4ea...|       EcZachly|2105198095|    6|\n",
      "|9169d1a3-955c-4ea...|       EcZachly|2916014239|    3|\n",
      "|9169d1a3-955c-4ea...|       EcZachly|3261908037|    6|\n",
      "|9169d1a3-955c-4ea...|       EcZachly|1351381581|    2|\n",
      "|9169d1a3-955c-4ea...|       EcZachly|2838259753|    1|\n",
      "|9169d1a3-955c-4ea...|       EcZachly|3354395650|    1|\n",
      "|9169d1a3-955c-4ea...|       EcZachly| 298813630|    1|\n",
      "|9169d1a3-955c-4ea...|       EcZachly|2430242797|    1|\n",
      "|5ae5a459-6372-491...|       EcZachly|3261908037|    9|\n",
      "|5ae5a459-6372-491...|       EcZachly|2078758684|    2|\n",
      "|5ae5a459-6372-491...|       EcZachly| 824733727|    1|\n",
      "|5ae5a459-6372-491...|       EcZachly|1080468863|    1|\n",
      "+--------------------+---------------+----------+-----+\n",
      "only showing top 20 rows\n",
      "\n"
     ]
    }
   ],
   "source": [
    "medal_matches_players.show()"
   ]
  },
  {
   "cell_type": "markdown",
   "metadata": {},
   "source": [
    "### Compare the bucketed vs non bucketed joins"
   ]
  },
  {
   "cell_type": "code",
   "execution_count": 9,
   "metadata": {},
   "outputs": [],
   "source": [
    "joined_df = match_details.select(\"match_id\", \"player_gamertag\", \"player_total_kills\").join(\n",
    "    matches.select(\"match_id\", \"mapid\", \"playlist_id\"),\n",
    "    on=[\"match_id\"]\n",
    ")"
   ]
  },
  {
   "cell_type": "code",
   "execution_count": 11,
   "metadata": {},
   "outputs": [],
   "source": [
    "match_details_bucketed = spark.read.table('bootcamp.match_details_bucketed')\n",
    "matches_bucketed = spark.read.table('bootcamp.matches_bucketed')\n",
    "medal_matches_players_bucketed = spark.read.table('bootcamp.medal_matches_players_bucketed')"
   ]
  },
  {
   "cell_type": "code",
   "execution_count": 38,
   "metadata": {},
   "outputs": [],
   "source": [
    "match_full = match_details_bucketed.join(matches_bucketed, on=[\"match_id\"], how=\"inner\")"
   ]
  },
  {
   "cell_type": "markdown",
   "metadata": {},
   "source": [
    "### Aggregate dfs to find metrics"
   ]
  },
  {
   "cell_type": "code",
   "execution_count": 32,
   "metadata": {},
   "outputs": [],
   "source": [
    "import pyspark.sql.functions as F\n",
    "\n",
    "avg_kills = match_full.groupBy(\"player_gamertag\").agg(F.avg(\"player_total_kills\").alias(\"avg_kills\"))\n",
    "avg_kills = avg_kills.orderBy(\"avg_kills\", ascending=False)"
   ]
  },
  {
   "cell_type": "code",
   "execution_count": 33,
   "metadata": {},
   "outputs": [
    {
     "name": "stderr",
     "output_type": "stream",
     "text": [
      "[Stage 31:=====================================>               (142 + 13) / 200]\r"
     ]
    },
    {
     "name": "stdout",
     "output_type": "stream",
     "text": [
      "+---------------+---------+\n",
      "|player_gamertag|avg_kills|\n",
      "+---------------+---------+\n",
      "|   gimpinator14|    109.0|\n",
      "|  I Johann117 I|     96.0|\n",
      "|BudgetLegendary|     83.0|\n",
      "|      GsFurreal|     75.0|\n",
      "|   Sexy is Back|     73.0|\n",
      "|   killerguy789|     68.0|\n",
      "|THC GUILTYSPARK|     67.0|\n",
      "|PrimePromethean|     66.0|\n",
      "|    HisLattice1|     66.0|\n",
      "|     taurenmonk|     64.0|\n",
      "|WhiteMountainDC|     63.0|\n",
      "|   Dinosaur B0B|     63.0|\n",
      "|     MONKEYBAKE|     62.0|\n",
      "|       BlightNB|     62.0|\n",
      "|        Darugis|     62.0|\n",
      "|    ManicZ0mb1e|     61.0|\n",
      "|  SiIentStriker|     61.0|\n",
      "|    ohh Replxys|     60.0|\n",
      "|LEGENDARY link0|     60.0|\n",
      "|Lord Leonidamir|     60.0|\n",
      "+---------------+---------+\n",
      "only showing top 20 rows\n",
      "\n"
     ]
    },
    {
     "name": "stderr",
     "output_type": "stream",
     "text": [
      "                                                                                \r"
     ]
    }
   ],
   "source": [
    "avg_kills.show()"
   ]
  },
  {
   "cell_type": "code",
   "execution_count": 35,
   "metadata": {},
   "outputs": [],
   "source": [
    "playlist_count = match_full.groupBy(\"playlist_id\").agg(F.count(\"player_total_kills\").alias(\"playlist_count\"))\n",
    "playlist_count = playlist_count.orderBy(\"playlist_count\", ascending=False)"
   ]
  },
  {
   "cell_type": "code",
   "execution_count": 36,
   "metadata": {},
   "outputs": [
    {
     "name": "stderr",
     "output_type": "stream",
     "text": [
      "[Stage 37:================================================>    (182 + 12) / 200]\r"
     ]
    },
    {
     "name": "stdout",
     "output_type": "stream",
     "text": [
      "+--------------------+--------------+\n",
      "|         playlist_id|playlist_count|\n",
      "+--------------------+--------------+\n",
      "|f72e0ef0-7c4a-430...|         58868|\n",
      "|2323b76a-db98-4e0...|         23587|\n",
      "|892189e9-d712-4bd...|         15079|\n",
      "|c98949ae-60a8-43d...|         13943|\n",
      "|0bcf2be1-3168-4e4...|          8487|\n",
      "|780cc101-005c-4fc...|          8258|\n",
      "|f27a65eb-2d11-496...|          5149|\n",
      "|d0766624-dbd7-453...|          3558|\n",
      "|bc0f8ad6-31e6-4a1...|          2542|\n",
      "|355dc154-9809-4ed...|          2202|\n",
      "|7b7e892c-d9b7-4b0...|          1683|\n",
      "|5728f612-3f20-445...|          1519|\n",
      "|7385b4a1-86bf-4ae...|          1375|\n",
      "|f0c9ef9a-48bd-4b2...|          1161|\n",
      "|4b12472e-2a06-423...|          1041|\n",
      "|819eb188-1a1c-48b...|          1010|\n",
      "|b5d5a242-ffa5-4d8...|           612|\n",
      "|d21c8381-26f1-4d6...|           479|\n",
      "|88b7de19-113c-4be...|           462|\n",
      "|2e812e09-912f-458...|           329|\n",
      "+--------------------+--------------+\n",
      "only showing top 20 rows\n",
      "\n"
     ]
    },
    {
     "name": "stderr",
     "output_type": "stream",
     "text": [
      "                                                                                \r"
     ]
    }
   ],
   "source": [
    "playlist_count.show()"
   ]
  },
  {
   "cell_type": "code",
   "execution_count": 37,
   "metadata": {},
   "outputs": [],
   "source": [
    "map_count = match_full.groupBy(\"mapid\").agg(F.count(\"player_total_kills\").alias(\"map_count\"))\n",
    "map_count = map_count.orderBy(\"map_count\", ascending=False)"
   ]
  },
  {
   "cell_type": "code",
   "execution_count": 64,
   "metadata": {},
   "outputs": [
    {
     "name": "stdout",
     "output_type": "stream",
     "text": [
      "+--------------------+--------------------+--------------------+\n",
      "|            match_id|               mapid|         playlist_id|\n",
      "+--------------------+--------------------+--------------------+\n",
      "|d78d2aae-36e4-48a...|c7edbf0f-f206-11e...|f72e0ef0-7c4a-430...|\n",
      "|9e079488-1355-4c6...|c74c9d0f-f206-11e...|0bcf2be1-3168-4e4...|\n",
      "|ad4a5b9d-7127-404...|c7edbf0f-f206-11e...|f72e0ef0-7c4a-430...|\n",
      "|5650cad9-17c8-422...|c7edbf0f-f206-11e...|f72e0ef0-7c4a-430...|\n",
      "|26bf5a48-7cf8-46c...|c7edbf0f-f206-11e...|f72e0ef0-7c4a-430...|\n",
      "|b05b0b30-9387-448...|c7edbf0f-f206-11e...|f72e0ef0-7c4a-430...|\n",
      "|40f27b2b-2da3-4aa...|caacb800-f206-11e...|2323b76a-db98-4e0...|\n",
      "|d312982c-ab8e-4c4...|cdb934b0-f206-11e...|2323b76a-db98-4e0...|\n",
      "|8df94631-bad3-4da...|cdb934b0-f206-11e...|c98949ae-60a8-43d...|\n",
      "|40717908-fec3-47e...|cebd854f-f206-11e...|892189e9-d712-4bd...|\n",
      "|01b13615-02c8-459...|c7edbf0f-f206-11e...|f72e0ef0-7c4a-430...|\n",
      "|a21f113b-b562-4f6...|caacb800-f206-11e...|f27a65eb-2d11-496...|\n",
      "|8e66d57b-24fb-4e4...|c7edbf0f-f206-11e...|f72e0ef0-7c4a-430...|\n",
      "|020dd965-723f-483...|caacb800-f206-11e...|c98949ae-60a8-43d...|\n",
      "|28c20ea3-ab76-45e...|c7edbf0f-f206-11e...|f72e0ef0-7c4a-430...|\n",
      "|91379f42-3945-4e7...|c8d69870-f206-11e...|b50c4dc2-6c86-4d7...|\n",
      "|6129f54f-639c-47e...|cc040aa1-f206-11e...|2323b76a-db98-4e0...|\n",
      "|c52f265b-6a7e-461...|cdee4e70-f206-11e...|2323b76a-db98-4e0...|\n",
      "|d4065c60-b9a8-4f6...|c7edbf0f-f206-11e...|f72e0ef0-7c4a-430...|\n",
      "|243420cb-4455-4f2...|c7edbf0f-f206-11e...|f72e0ef0-7c4a-430...|\n",
      "+--------------------+--------------------+--------------------+\n",
      "only showing top 20 rows\n",
      "\n"
     ]
    }
   ],
   "source": [
    "matches_bucketed.show()"
   ]
  },
  {
   "cell_type": "code",
   "execution_count": 65,
   "metadata": {},
   "outputs": [],
   "source": [
    "ks_medals = medal_matches_players_bucketed.join(\n",
    "    F.broadcast(medals.select(\"medal_id\", \"name\")),\n",
    "    on=[\"medal_id\"],\n",
    "    how=\"inner\",\n",
    ").join(\n",
    "    matches_bucketed,\n",
    "    on=[\"match_id\"],\n",
    "    how=\"inner\",\n",
    ")"
   ]
  },
  {
   "cell_type": "code",
   "execution_count": 66,
   "metadata": {},
   "outputs": [],
   "source": [
    "ks_medals = ks_medals.filter(F.col(\"name\") == \"Killing Spree\")\n"
   ]
  },
  {
   "cell_type": "code",
   "execution_count": 69,
   "metadata": {},
   "outputs": [],
   "source": [
    "ks_medals_count = ks_medals.groupBy(\"mapid\").agg(F.count(\"medal_id\").alias(\"map_count\"))\n",
    "ks_medals_count = ks_medals_count.orderBy(\"map_count\", ascending=False)"
   ]
  },
  {
   "cell_type": "code",
   "execution_count": 70,
   "metadata": {},
   "outputs": [
    {
     "name": "stderr",
     "output_type": "stream",
     "text": [
      "24/12/07 18:49:14 WARN DataSourceV2Strategy: Can't translate true to source filter, unsupported expression\n",
      "[Stage 90:==============================================>      (177 + 12) / 200]\r"
     ]
    },
    {
     "name": "stdout",
     "output_type": "stream",
     "text": [
      "+--------------------+---------+\n",
      "|               mapid|map_count|\n",
      "+--------------------+---------+\n",
      "|c7edbf0f-f206-11e...|     6559|\n",
      "|c74c9d0f-f206-11e...|     4346|\n",
      "|c7805740-f206-11e...|     2617|\n",
      "|cdb934b0-f206-11e...|     1996|\n",
      "|ce1dc2de-f206-11e...|     1765|\n",
      "|cb914b9e-f206-11e...|     1747|\n",
      "|caacb800-f206-11e...|     1671|\n",
      "|cebd854f-f206-11e...|     1653|\n",
      "|cdee4e70-f206-11e...|     1558|\n",
      "|cd844200-f206-11e...|     1551|\n",
      "|cc040aa1-f206-11e...|     1451|\n",
      "|ca737f8f-f206-11e...|      926|\n",
      "|cbcea2c0-f206-11e...|      809|\n",
      "|cc74f4e1-f206-11e...|      771|\n",
      "|c7b7baf0-f206-11e...|      518|\n",
      "|ce89a40f-f206-11e...|      312|\n",
      "+--------------------+---------+\n",
      "\n"
     ]
    },
    {
     "name": "stderr",
     "output_type": "stream",
     "text": [
      "                                                                                \r"
     ]
    }
   ],
   "source": [
    "ks_medals_count.show()"
   ]
  },
  {
   "cell_type": "code",
   "execution_count": null,
   "metadata": {},
   "outputs": [],
   "source": []
  }
 ],
 "metadata": {
  "kernelspec": {
   "display_name": "Python 3 (ipykernel)",
   "language": "python",
   "name": "python3"
  },
  "language_info": {
   "codemirror_mode": {
    "name": "ipython",
    "version": 3
   },
   "file_extension": ".py",
   "mimetype": "text/x-python",
   "name": "python",
   "nbconvert_exporter": "python",
   "pygments_lexer": "ipython3",
   "version": "3.9.18"
  }
 },
 "nbformat": 4,
 "nbformat_minor": 4
}
