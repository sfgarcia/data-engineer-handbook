{
 "cells": [
  {
   "cell_type": "code",
   "execution_count": 20,
   "metadata": {},
   "outputs": [],
   "source": [
    "from pyspark.sql import SparkSession\n",
    "import pyspark.sql.functions as F\n",
    "\n",
    "spark = SparkSession.builder \\\n",
    "    .appName(\"spark_job\") \\\n",
    "    .config(\"spark.sql.autoBroadcastJoinThreshold\", '-1') \\\n",
    "    .config('spark.sql.sources.v2.bucketing.enabled', 'true') \\\n",
    "    .config('spark.sql.iceberg.planning.preserve-data-grouping', 'true') \\\n",
    "    .getOrCreate()\n",
    "\n",
    "#.config(\"spark.sql.bucketingEnabled\", \"true\") \\"
   ]
  },
  {
   "cell_type": "code",
   "execution_count": 3,
   "metadata": {},
   "outputs": [
    {
     "name": "stderr",
     "output_type": "stream",
     "text": [
      "                                                                                \r"
     ]
    }
   ],
   "source": [
    "match_details = spark.read.csv(\"../../data/match_details.csv\", header=True, inferSchema=True)\n",
    "matches = spark.read.csv(\"../../data/matches.csv\", header=True, inferSchema=True)\n",
    "medal_matches_players = spark.read.csv(\"../../data/medals_matches_players.csv\", header=True, inferSchema=True)\n",
    "medals = spark.read.csv(\"../../data/medals.csv\", header=True, inferSchema=True)"
   ]
  },
  {
   "cell_type": "markdown",
   "metadata": {},
   "source": [
    "### Crear las tablas bucketizadas"
   ]
  },
  {
   "cell_type": "code",
   "execution_count": 4,
   "metadata": {},
   "outputs": [
    {
     "data": {
      "text/plain": [
       "DataFrame[]"
      ]
     },
     "execution_count": 4,
     "metadata": {},
     "output_type": "execute_result"
    }
   ],
   "source": [
    "spark.sql(\"\"\"DROP TABLE IF EXISTS bootcamp.match_details_bucketed\"\"\")"
   ]
  },
  {
   "cell_type": "code",
   "execution_count": 5,
   "metadata": {},
   "outputs": [
    {
     "name": "stderr",
     "output_type": "stream",
     "text": [
      "                                                                                \r"
     ]
    }
   ],
   "source": [
    "match_details.select(\"match_id\", \"player_gamertag\", \"player_total_kills\") \\\n",
    "    .write.mode(\"append\") \\\n",
    "    .bucketBy(16, \"match_id\") \\\n",
    "    .saveAsTable(\"bootcamp.match_details_bucketed\")"
   ]
  },
  {
   "cell_type": "code",
   "execution_count": 6,
   "metadata": {},
   "outputs": [
    {
     "data": {
      "text/plain": [
       "DataFrame[]"
      ]
     },
     "execution_count": 6,
     "metadata": {},
     "output_type": "execute_result"
    }
   ],
   "source": [
    "spark.sql(\"\"\"DROP TABLE IF EXISTS bootcamp.matches_bucketed\"\"\")"
   ]
  },
  {
   "cell_type": "code",
   "execution_count": 7,
   "metadata": {},
   "outputs": [],
   "source": [
    "matches.select(\"match_id\", \"mapid\", \"playlist_id\") \\\n",
    "    .write.mode(\"append\") \\\n",
    "    .bucketBy(16, \"match_id\") \\\n",
    "    .saveAsTable(\"bootcamp.matches_bucketed\")"
   ]
  },
  {
   "cell_type": "code",
   "execution_count": 8,
   "metadata": {},
   "outputs": [
    {
     "data": {
      "text/plain": [
       "DataFrame[]"
      ]
     },
     "execution_count": 8,
     "metadata": {},
     "output_type": "execute_result"
    }
   ],
   "source": [
    "spark.sql(\"\"\"DROP TABLE IF EXISTS bootcamp.medal_matches_players_bucketed\"\"\")"
   ]
  },
  {
   "cell_type": "code",
   "execution_count": 9,
   "metadata": {},
   "outputs": [
    {
     "name": "stderr",
     "output_type": "stream",
     "text": [
      "                                                                                \r"
     ]
    }
   ],
   "source": [
    "medal_matches_players.select(\"match_id\", \"player_gamertag\", \"medal_id\", \"count\") \\\n",
    "    .write.mode(\"append\") \\\n",
    "    .bucketBy(16, \"match_id\") \\\n",
    "    .saveAsTable(\"bootcamp.medal_matches_players_bucketed\")"
   ]
  },
  {
   "cell_type": "markdown",
   "metadata": {},
   "source": [
    "### Compare the bucketed vs non bucketed joins"
   ]
  },
  {
   "cell_type": "code",
   "execution_count": 11,
   "metadata": {},
   "outputs": [],
   "source": [
    "joined_df = match_details.select(\"match_id\", \"player_gamertag\", \"player_total_kills\").join(\n",
    "    matches.select(\"match_id\", \"mapid\", \"playlist_id\"),\n",
    "    on=[\"match_id\"]\n",
    ")"
   ]
  },
  {
   "cell_type": "code",
   "execution_count": 12,
   "metadata": {},
   "outputs": [],
   "source": [
    "match_details_bucketed = spark.read.table('bootcamp.match_details_bucketed')\n",
    "matches_bucketed = spark.read.table('bootcamp.matches_bucketed')\n",
    "medal_matches_players_bucketed = spark.read.table('bootcamp.medal_matches_players_bucketed')"
   ]
  },
  {
   "cell_type": "code",
   "execution_count": 13,
   "metadata": {},
   "outputs": [],
   "source": [
    "match_full = match_details_bucketed.join(matches_bucketed, on=[\"match_id\"], how=\"inner\")"
   ]
  },
  {
   "cell_type": "code",
   "execution_count": 27,
   "metadata": {},
   "outputs": [
    {
     "name": "stdout",
     "output_type": "stream",
     "text": [
      "+--------------------+---------------+------------------+--------------------+--------------------+\n",
      "|            match_id|player_gamertag|player_total_kills|               mapid|         playlist_id|\n",
      "+--------------------+---------------+------------------+--------------------+--------------------+\n",
      "|3668fd3c-53f2-42f...|       EcZachly|                17|cdee4e70-f206-11e...|c98949ae-60a8-43d...|\n",
      "+--------------------+---------------+------------------+--------------------+--------------------+\n",
      "\n"
     ]
    }
   ],
   "source": [
    "match_full.filter(\n",
    "    (F.col(\"match_id\") == \"3668fd3c-53f2-42f2-a337-8af81fcf551b\") &\n",
    "    (F.col(\"player_gamertag\") == \"EcZachly\")).show()"
   ]
  },
  {
   "cell_type": "code",
   "execution_count": 26,
   "metadata": {},
   "outputs": [
    {
     "name": "stdout",
     "output_type": "stream",
     "text": [
      "+--------------------+---------------+----------+-----+\n",
      "|            match_id|player_gamertag|  medal_id|count|\n",
      "+--------------------+---------------+----------+-----+\n",
      "|3668fd3c-53f2-42f...|       EcZachly| 250435527|    1|\n",
      "|3668fd3c-53f2-42f...|       EcZachly|3001183151|    1|\n",
      "|3668fd3c-53f2-42f...|       EcZachly|3261908037|    7|\n",
      "|3668fd3c-53f2-42f...|       EcZachly|2838259753|    4|\n",
      "|3668fd3c-53f2-42f...|       EcZachly|2430242797|    1|\n",
      "|3668fd3c-53f2-42f...|       EcZachly|3653057799|    1|\n",
      "|3668fd3c-53f2-42f...|       EcZachly| 370413844|    1|\n",
      "|3668fd3c-53f2-42f...|       EcZachly| 466059351|    1|\n",
      "|3668fd3c-53f2-42f...|       EcZachly|3972445431|    1|\n",
      "|3668fd3c-53f2-42f...|       EcZachly| 824733727|    1|\n",
      "+--------------------+---------------+----------+-----+\n",
      "\n"
     ]
    }
   ],
   "source": [
    "medal_matches_players_bucketed.filter(\n",
    "    (F.col(\"match_id\") == \"3668fd3c-53f2-42f2-a337-8af81fcf551b\") &\n",
    "    (F.col(\"player_gamertag\") == \"EcZachly\")).show()"
   ]
  },
  {
   "cell_type": "markdown",
   "metadata": {},
   "source": [
    "### Aggregate dfs to find metrics"
   ]
  },
  {
   "cell_type": "markdown",
   "metadata": {},
   "source": [
    "#### Matches metrics"
   ]
  },
  {
   "cell_type": "code",
   "execution_count": 32,
   "metadata": {},
   "outputs": [],
   "source": [
    "avg_kills = match_full.groupBy(\"player_gamertag\").agg(F.avg(\"player_total_kills\").alias(\"avg_kills\"))\n",
    "avg_kills = avg_kills.orderBy(\"avg_kills\", ascending=False)"
   ]
  },
  {
   "cell_type": "code",
   "execution_count": 33,
   "metadata": {},
   "outputs": [
    {
     "name": "stderr",
     "output_type": "stream",
     "text": [
      "[Stage 31:=====================================>               (142 + 13) / 200]\r"
     ]
    },
    {
     "name": "stdout",
     "output_type": "stream",
     "text": [
      "+---------------+---------+\n",
      "|player_gamertag|avg_kills|\n",
      "+---------------+---------+\n",
      "|   gimpinator14|    109.0|\n",
      "|  I Johann117 I|     96.0|\n",
      "|BudgetLegendary|     83.0|\n",
      "|      GsFurreal|     75.0|\n",
      "|   Sexy is Back|     73.0|\n",
      "|   killerguy789|     68.0|\n",
      "|THC GUILTYSPARK|     67.0|\n",
      "|PrimePromethean|     66.0|\n",
      "|    HisLattice1|     66.0|\n",
      "|     taurenmonk|     64.0|\n",
      "|WhiteMountainDC|     63.0|\n",
      "|   Dinosaur B0B|     63.0|\n",
      "|     MONKEYBAKE|     62.0|\n",
      "|       BlightNB|     62.0|\n",
      "|        Darugis|     62.0|\n",
      "|    ManicZ0mb1e|     61.0|\n",
      "|  SiIentStriker|     61.0|\n",
      "|    ohh Replxys|     60.0|\n",
      "|LEGENDARY link0|     60.0|\n",
      "|Lord Leonidamir|     60.0|\n",
      "+---------------+---------+\n",
      "only showing top 20 rows\n",
      "\n"
     ]
    },
    {
     "name": "stderr",
     "output_type": "stream",
     "text": [
      "                                                                                \r"
     ]
    }
   ],
   "source": [
    "avg_kills.show()"
   ]
  },
  {
   "cell_type": "code",
   "execution_count": 35,
   "metadata": {},
   "outputs": [],
   "source": [
    "playlist_count = match_full.groupBy(\"playlist_id\").agg(F.count(\"player_total_kills\").alias(\"playlist_count\"))\n",
    "playlist_count = playlist_count.orderBy(\"playlist_count\", ascending=False)"
   ]
  },
  {
   "cell_type": "code",
   "execution_count": 36,
   "metadata": {},
   "outputs": [
    {
     "name": "stderr",
     "output_type": "stream",
     "text": [
      "[Stage 37:================================================>    (182 + 12) / 200]\r"
     ]
    },
    {
     "name": "stdout",
     "output_type": "stream",
     "text": [
      "+--------------------+--------------+\n",
      "|         playlist_id|playlist_count|\n",
      "+--------------------+--------------+\n",
      "|f72e0ef0-7c4a-430...|         58868|\n",
      "|2323b76a-db98-4e0...|         23587|\n",
      "|892189e9-d712-4bd...|         15079|\n",
      "|c98949ae-60a8-43d...|         13943|\n",
      "|0bcf2be1-3168-4e4...|          8487|\n",
      "|780cc101-005c-4fc...|          8258|\n",
      "|f27a65eb-2d11-496...|          5149|\n",
      "|d0766624-dbd7-453...|          3558|\n",
      "|bc0f8ad6-31e6-4a1...|          2542|\n",
      "|355dc154-9809-4ed...|          2202|\n",
      "|7b7e892c-d9b7-4b0...|          1683|\n",
      "|5728f612-3f20-445...|          1519|\n",
      "|7385b4a1-86bf-4ae...|          1375|\n",
      "|f0c9ef9a-48bd-4b2...|          1161|\n",
      "|4b12472e-2a06-423...|          1041|\n",
      "|819eb188-1a1c-48b...|          1010|\n",
      "|b5d5a242-ffa5-4d8...|           612|\n",
      "|d21c8381-26f1-4d6...|           479|\n",
      "|88b7de19-113c-4be...|           462|\n",
      "|2e812e09-912f-458...|           329|\n",
      "+--------------------+--------------+\n",
      "only showing top 20 rows\n",
      "\n"
     ]
    },
    {
     "name": "stderr",
     "output_type": "stream",
     "text": [
      "                                                                                \r"
     ]
    }
   ],
   "source": [
    "playlist_count.show()"
   ]
  },
  {
   "cell_type": "code",
   "execution_count": 37,
   "metadata": {},
   "outputs": [],
   "source": [
    "map_count = match_full.groupBy(\"mapid\").agg(F.count(\"player_total_kills\").alias(\"map_count\"))\n",
    "map_count = map_count.orderBy(\"map_count\", ascending=False)"
   ]
  },
  {
   "cell_type": "code",
   "execution_count": 64,
   "metadata": {},
   "outputs": [
    {
     "name": "stdout",
     "output_type": "stream",
     "text": [
      "+--------------------+--------------------+--------------------+\n",
      "|            match_id|               mapid|         playlist_id|\n",
      "+--------------------+--------------------+--------------------+\n",
      "|d78d2aae-36e4-48a...|c7edbf0f-f206-11e...|f72e0ef0-7c4a-430...|\n",
      "|9e079488-1355-4c6...|c74c9d0f-f206-11e...|0bcf2be1-3168-4e4...|\n",
      "|ad4a5b9d-7127-404...|c7edbf0f-f206-11e...|f72e0ef0-7c4a-430...|\n",
      "|5650cad9-17c8-422...|c7edbf0f-f206-11e...|f72e0ef0-7c4a-430...|\n",
      "|26bf5a48-7cf8-46c...|c7edbf0f-f206-11e...|f72e0ef0-7c4a-430...|\n",
      "|b05b0b30-9387-448...|c7edbf0f-f206-11e...|f72e0ef0-7c4a-430...|\n",
      "|40f27b2b-2da3-4aa...|caacb800-f206-11e...|2323b76a-db98-4e0...|\n",
      "|d312982c-ab8e-4c4...|cdb934b0-f206-11e...|2323b76a-db98-4e0...|\n",
      "|8df94631-bad3-4da...|cdb934b0-f206-11e...|c98949ae-60a8-43d...|\n",
      "|40717908-fec3-47e...|cebd854f-f206-11e...|892189e9-d712-4bd...|\n",
      "|01b13615-02c8-459...|c7edbf0f-f206-11e...|f72e0ef0-7c4a-430...|\n",
      "|a21f113b-b562-4f6...|caacb800-f206-11e...|f27a65eb-2d11-496...|\n",
      "|8e66d57b-24fb-4e4...|c7edbf0f-f206-11e...|f72e0ef0-7c4a-430...|\n",
      "|020dd965-723f-483...|caacb800-f206-11e...|c98949ae-60a8-43d...|\n",
      "|28c20ea3-ab76-45e...|c7edbf0f-f206-11e...|f72e0ef0-7c4a-430...|\n",
      "|91379f42-3945-4e7...|c8d69870-f206-11e...|b50c4dc2-6c86-4d7...|\n",
      "|6129f54f-639c-47e...|cc040aa1-f206-11e...|2323b76a-db98-4e0...|\n",
      "|c52f265b-6a7e-461...|cdee4e70-f206-11e...|2323b76a-db98-4e0...|\n",
      "|d4065c60-b9a8-4f6...|c7edbf0f-f206-11e...|f72e0ef0-7c4a-430...|\n",
      "|243420cb-4455-4f2...|c7edbf0f-f206-11e...|f72e0ef0-7c4a-430...|\n",
      "+--------------------+--------------------+--------------------+\n",
      "only showing top 20 rows\n",
      "\n"
     ]
    }
   ],
   "source": [
    "matches_bucketed.show()"
   ]
  },
  {
   "cell_type": "markdown",
   "metadata": {},
   "source": [
    "#### Medals metrics"
   ]
  },
  {
   "cell_type": "code",
   "execution_count": 28,
   "metadata": {},
   "outputs": [],
   "source": [
    "medals_full = medal_matches_players_bucketed.join(\n",
    "    F.broadcast(medals.select(\"medal_id\", \"name\")),\n",
    "    on=[\"medal_id\"],\n",
    "    how=\"inner\",\n",
    ").join(\n",
    "    matches_bucketed,\n",
    "    on=[\"match_id\"],\n",
    "    how=\"inner\",\n",
    ")"
   ]
  },
  {
   "cell_type": "code",
   "execution_count": 66,
   "metadata": {},
   "outputs": [],
   "source": [
    "ks_medals = medals_full.filter(F.col(\"name\") == \"Killing Spree\")\n"
   ]
  },
  {
   "cell_type": "code",
   "execution_count": 69,
   "metadata": {},
   "outputs": [],
   "source": [
    "ks_medals_count = ks_medals.groupBy(\"mapid\").agg(F.count(\"medal_id\").alias(\"map_count\"))\n",
    "ks_medals_count = ks_medals_count.orderBy(\"map_count\", ascending=False)"
   ]
  },
  {
   "cell_type": "code",
   "execution_count": 70,
   "metadata": {},
   "outputs": [
    {
     "name": "stderr",
     "output_type": "stream",
     "text": [
      "24/12/07 18:49:14 WARN DataSourceV2Strategy: Can't translate true to source filter, unsupported expression\n",
      "[Stage 90:==============================================>      (177 + 12) / 200]\r"
     ]
    },
    {
     "name": "stdout",
     "output_type": "stream",
     "text": [
      "+--------------------+---------+\n",
      "|               mapid|map_count|\n",
      "+--------------------+---------+\n",
      "|c7edbf0f-f206-11e...|     6559|\n",
      "|c74c9d0f-f206-11e...|     4346|\n",
      "|c7805740-f206-11e...|     2617|\n",
      "|cdb934b0-f206-11e...|     1996|\n",
      "|ce1dc2de-f206-11e...|     1765|\n",
      "|cb914b9e-f206-11e...|     1747|\n",
      "|caacb800-f206-11e...|     1671|\n",
      "|cebd854f-f206-11e...|     1653|\n",
      "|cdee4e70-f206-11e...|     1558|\n",
      "|cd844200-f206-11e...|     1551|\n",
      "|cc040aa1-f206-11e...|     1451|\n",
      "|ca737f8f-f206-11e...|      926|\n",
      "|cbcea2c0-f206-11e...|      809|\n",
      "|cc74f4e1-f206-11e...|      771|\n",
      "|c7b7baf0-f206-11e...|      518|\n",
      "|ce89a40f-f206-11e...|      312|\n",
      "+--------------------+---------+\n",
      "\n"
     ]
    },
    {
     "name": "stderr",
     "output_type": "stream",
     "text": [
      "                                                                                \r"
     ]
    }
   ],
   "source": [
    "ks_medals_count.show()"
   ]
  },
  {
   "cell_type": "markdown",
   "metadata": {},
   "source": [
    "### Try different sorting strategies on medals_full"
   ]
  },
  {
   "cell_type": "code",
   "execution_count": 36,
   "metadata": {},
   "outputs": [],
   "source": [
    "sorted_medals = medals_full.sortWithinPartitions(\"mapid\", \"playlist_id\", \"player_gamertag\", \"match_id\")"
   ]
  },
  {
   "cell_type": "code",
   "execution_count": 37,
   "metadata": {},
   "outputs": [
    {
     "name": "stderr",
     "output_type": "stream",
     "text": [
      "24/12/07 19:28:22 WARN MemoryManager: Total allocation exceeds 95.00% (1,020,054,720 bytes) of heap memory\n",
      "Scaling row group sizes to 95.00% for 8 writers\n",
      "24/12/07 19:28:22 WARN MemoryManager: Total allocation exceeds 95.00% (1,020,054,720 bytes) of heap memory\n",
      "Scaling row group sizes to 84.44% for 9 writers\n",
      "24/12/07 19:28:22 WARN MemoryManager: Total allocation exceeds 95.00% (1,020,054,720 bytes) of heap memory\n",
      "Scaling row group sizes to 76.00% for 10 writers\n",
      "24/12/07 19:28:22 WARN MemoryManager: Total allocation exceeds 95.00% (1,020,054,720 bytes) of heap memory\n",
      "Scaling row group sizes to 69.09% for 11 writers\n",
      "24/12/07 19:28:22 WARN MemoryManager: Total allocation exceeds 95.00% (1,020,054,720 bytes) of heap memory\n",
      "Scaling row group sizes to 63.33% for 12 writers\n",
      "24/12/07 19:28:23 WARN MemoryManager: Total allocation exceeds 95.00% (1,020,054,720 bytes) of heap memory\n",
      "Scaling row group sizes to 69.09% for 11 writers\n",
      "24/12/07 19:28:23 WARN MemoryManager: Total allocation exceeds 95.00% (1,020,054,720 bytes) of heap memory\n",
      "Scaling row group sizes to 76.00% for 10 writers\n",
      "24/12/07 19:28:23 WARN MemoryManager: Total allocation exceeds 95.00% (1,020,054,720 bytes) of heap memory\n",
      "Scaling row group sizes to 84.44% for 9 writers\n",
      "24/12/07 19:28:23 WARN MemoryManager: Total allocation exceeds 95.00% (1,020,054,720 bytes) of heap memory\n",
      "Scaling row group sizes to 95.00% for 8 writers\n",
      "                                                                                \r"
     ]
    }
   ],
   "source": [
    "sorted_medals.write.parquet(\"../../output\")"
   ]
  },
  {
   "cell_type": "code",
   "execution_count": 35,
   "metadata": {},
   "outputs": [
    {
     "name": "stdout",
     "output_type": "stream",
     "text": [
      "+--------------------+----------+---------------+-----+---------------+--------------------+--------------------+\n",
      "|            match_id|  medal_id|player_gamertag|count|           name|               mapid|         playlist_id|\n",
      "+--------------------+----------+---------------+-----+---------------+--------------------+--------------------+\n",
      "|005719e8-6688-4c8...| 298813630|   JokerSC 9712|    2| Spartan Charge|c7edbf0f-f206-11e...|f72e0ef0-7c4a-430...|\n",
      "|005719e8-6688-4c8...|2838259753|   JokerSC 9712|    1|      Protector|c7edbf0f-f206-11e...|f72e0ef0-7c4a-430...|\n",
      "|005719e8-6688-4c8...| 824733727|   JokerSC 9712|    1|    Distraction|c7edbf0f-f206-11e...|f72e0ef0-7c4a-430...|\n",
      "|005719e8-6688-4c8...|3261908037| Crisantos E113|    1|       Headshot|c7edbf0f-f206-11e...|f72e0ef0-7c4a-430...|\n",
      "|005719e8-6688-4c8...| 298813630| Crisantos E113|    2| Spartan Charge|c7edbf0f-f206-11e...|f72e0ef0-7c4a-430...|\n",
      "|005719e8-6688-4c8...| 298813630|   shantii15700|    2| Spartan Charge|c7edbf0f-f206-11e...|f72e0ef0-7c4a-430...|\n",
      "|005719e8-6688-4c8...|3001183151|   shantii15700|    1|   First Strike|c7edbf0f-f206-11e...|f72e0ef0-7c4a-430...|\n",
      "|005719e8-6688-4c8...|3894006667|   shantii15700|    1|Stealth Capture|c7edbf0f-f206-11e...|f72e0ef0-7c4a-430...|\n",
      "|005719e8-6688-4c8...|2155964350|   shantii15700|    1|     Fast Break|c7edbf0f-f206-11e...|f72e0ef0-7c4a-430...|\n",
      "|005719e8-6688-4c8...|2782465081|   shantii15700|    1|       Reversal|c7edbf0f-f206-11e...|f72e0ef0-7c4a-430...|\n",
      "|005719e8-6688-4c8...|3400287617|   shantii15700|    1|     Close Call|c7edbf0f-f206-11e...|f72e0ef0-7c4a-430...|\n",
      "|005719e8-6688-4c8...| 298813630|   ninjaELMO101|    1| Spartan Charge|c7edbf0f-f206-11e...|f72e0ef0-7c4a-430...|\n",
      "|005719e8-6688-4c8...|2028249938|   ninjaELMO101|    1|   Carrier Kill|c7edbf0f-f206-11e...|f72e0ef0-7c4a-430...|\n",
      "|005719e8-6688-4c8...|2287626681|   ninjaELMO101|    1|     Melee Kill|c7edbf0f-f206-11e...|f72e0ef0-7c4a-430...|\n",
      "|005719e8-6688-4c8...|3261908037|   ninjaELMO101|    1|       Headshot|c7edbf0f-f206-11e...|f72e0ef0-7c4a-430...|\n",
      "|005719e8-6688-4c8...|3261908037|       Guren eh|    1|       Headshot|c7edbf0f-f206-11e...|f72e0ef0-7c4a-430...|\n",
      "|005719e8-6688-4c8...|3400287617|       Guren eh|    1|     Close Call|c7edbf0f-f206-11e...|f72e0ef0-7c4a-430...|\n",
      "|005719e8-6688-4c8...|1573153198|       Guren eh|    1|     Vanquisher|c7edbf0f-f206-11e...|f72e0ef0-7c4a-430...|\n",
      "|005719e8-6688-4c8...|2287626681|   technowolf15|    1|     Melee Kill|c7edbf0f-f206-11e...|f72e0ef0-7c4a-430...|\n",
      "|005719e8-6688-4c8...|3400287617|   technowolf15|    1|     Close Call|c7edbf0f-f206-11e...|f72e0ef0-7c4a-430...|\n",
      "+--------------------+----------+---------------+-----+---------------+--------------------+--------------------+\n",
      "only showing top 20 rows\n",
      "\n"
     ]
    }
   ],
   "source": [
    "sorted_medals = medals_full.show()"
   ]
  },
  {
   "cell_type": "code",
   "execution_count": null,
   "metadata": {},
   "outputs": [],
   "source": []
  }
 ],
 "metadata": {
  "kernelspec": {
   "display_name": "Python 3 (ipykernel)",
   "language": "python",
   "name": "python3"
  },
  "language_info": {
   "codemirror_mode": {
    "name": "ipython",
    "version": 3
   },
   "file_extension": ".py",
   "mimetype": "text/x-python",
   "name": "python",
   "nbconvert_exporter": "python",
   "pygments_lexer": "ipython3",
   "version": "3.9.12"
  }
 },
 "nbformat": 4,
 "nbformat_minor": 4
}
