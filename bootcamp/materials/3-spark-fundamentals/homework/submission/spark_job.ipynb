{
 "cells": [
  {
   "cell_type": "code",
   "execution_count": 2,
   "metadata": {},
   "outputs": [],
   "source": [
    "from pyspark.sql import SparkSession\n",
    "\n",
    "spark = SparkSession.builder.appName(\"spark_job\") \\\n",
    "    .config(\"spark.sql.autoBroadcastJoinThreshold\", '-1') \\\n",
    "    .getOrCreate()"
   ]
  },
  {
   "cell_type": "code",
   "execution_count": 7,
   "metadata": {},
   "outputs": [],
   "source": [
    "medals = spark.read.csv(\"../../data/medals.csv\", header=True, inferSchema=True)\n",
    "maps = spark.read.csv(\"../../data/maps.csv\", header=True, inferSchema=True)"
   ]
  },
  {
   "cell_type": "code",
   "execution_count": 11,
   "metadata": {},
   "outputs": [
    {
     "name": "stdout",
     "output_type": "stream",
     "text": [
      "root\n",
      " |-- medal_id: long (nullable = true)\n",
      " |-- sprite_uri: string (nullable = true)\n",
      " |-- sprite_left: integer (nullable = true)\n",
      " |-- sprite_top: integer (nullable = true)\n",
      " |-- sprite_sheet_width: integer (nullable = true)\n",
      " |-- sprite_sheet_height: integer (nullable = true)\n",
      " |-- sprite_width: integer (nullable = true)\n",
      " |-- sprite_height: integer (nullable = true)\n",
      " |-- classification: string (nullable = true)\n",
      " |-- description: string (nullable = true)\n",
      " |-- name: string (nullable = true)\n",
      " |-- difficulty: integer (nullable = true)\n",
      "\n",
      "root\n",
      " |-- mapid: string (nullable = true)\n",
      " |-- name: string (nullable = true)\n",
      " |-- description: string (nullable = true)\n",
      "\n"
     ]
    }
   ],
   "source": [
    "medals.printSchema()\n",
    "maps.printSchema()"
   ]
  },
  {
   "cell_type": "code",
   "execution_count": 8,
   "metadata": {},
   "outputs": [
    {
     "name": "stdout",
     "output_type": "stream",
     "text": [
      "+--------------------+-------------------+--------------------+\n",
      "|               mapid|               name|         description|\n",
      "+--------------------+-------------------+--------------------+\n",
      "|c93d708f-f206-11e...|              Urban|Andesia was the c...|\n",
      "|cb251c51-f206-11e...|     Raid on Apex 7|This unbroken rin...|\n",
      "|c854e54f-f206-11e...|March on Stormbreak|                NULL|\n",
      "|c8d69870-f206-11e...| Escape from A.R.C.|Scientists flocke...|\n",
      "|73ed1fd0-45e5-4bb...|             Osiris|                NULL|\n",
      "|96c3e3dd-7703-408...|          Blue Team|                NULL|\n",
      "|1c4f8e19-b046-4f7...|            Glassed|                NULL|\n",
      "|825065cf-df57-42e...|        Unconfirmed|                NULL|\n",
      "|9a188f67-1664-4d7...|           Alliance|                NULL|\n",
      "|2702ea83-2c3e-4fd...|   Before the Storm|                NULL|\n",
      "|82f8471c-a2ef-408...|            Genesis|                NULL|\n",
      "|fcd7caa4-37c9-436...|       The Breaking|                NULL|\n",
      "|7dc80b62-dd39-41d...|          Guardians|                NULL|\n",
      "|db9f76c4-6f9a-4c1...|   Meridian Station|                NULL|\n",
      "|b486c8f6-0b00-4a4...|         Evacuation|                NULL|\n",
      "|37c717b8-7ae8-4be...|            Reunion|                NULL|\n",
      "|72c98d4a-4ee4-40d...|Sword of Sanghelios|                NULL|\n",
      "|f352eafd-d307-434...|        Enemy Lines|                NULL|\n",
      "|8d72dd82-3afb-409...|  Battle of Sunaion|                NULL|\n",
      "|c822b1c0-f206-11e...|             Summit|The half-real spa...|\n",
      "+--------------------+-------------------+--------------------+\n",
      "only showing top 20 rows\n",
      "\n"
     ]
    }
   ],
   "source": [
    "maps.show()"
   ]
  },
  {
   "cell_type": "code",
   "execution_count": null,
   "metadata": {},
   "outputs": [],
   "source": []
  }
 ],
 "metadata": {
  "kernelspec": {
   "display_name": ".venv",
   "language": "python",
   "name": "python3"
  },
  "language_info": {
   "codemirror_mode": {
    "name": "ipython",
    "version": 3
   },
   "file_extension": ".py",
   "mimetype": "text/x-python",
   "name": "python",
   "nbconvert_exporter": "python",
   "pygments_lexer": "ipython3",
   "version": "3.9.12"
  }
 },
 "nbformat": 4,
 "nbformat_minor": 2
}
