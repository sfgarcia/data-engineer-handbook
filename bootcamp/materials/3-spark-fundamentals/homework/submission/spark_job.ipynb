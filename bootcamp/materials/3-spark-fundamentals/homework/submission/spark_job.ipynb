{
 "cells": [
  {
   "cell_type": "code",
   "execution_count": 1,
   "metadata": {},
   "outputs": [
    {
     "name": "stderr",
     "output_type": "stream",
     "text": [
      "Setting default log level to \"WARN\".\n",
      "To adjust logging level use sc.setLogLevel(newLevel). For SparkR, use setLogLevel(newLevel).\n",
      "24/12/05 21:02:34 WARN NativeCodeLoader: Unable to load native-hadoop library for your platform... using builtin-java classes where applicable\n"
     ]
    }
   ],
   "source": [
    "from pyspark.sql import SparkSession\n",
    "\n",
    "spark = SparkSession.builder \\\n",
    "    .master(\"spark://localhost:8888\") \\\n",
    "    .appName(\"spark_job\") \\\n",
    "    .config(\"spark.sql.autoBroadcastJoinThreshold\", '-1') \\\n",
    "    .getOrCreate()"
   ]
  },
  {
   "cell_type": "code",
   "execution_count": 3,
   "metadata": {},
   "outputs": [
    {
     "name": "stderr",
     "output_type": "stream",
     "text": [
      "                                                                                \r"
     ]
    }
   ],
   "source": [
    "match_details = spark.read.csv(\"../../data/match_details.csv\", header=True, inferSchema=True)\n",
    "matches = spark.read.csv(\"../../data/matches.csv\", header=True, inferSchema=True)\n",
    "medal_matches_players = spark.read.csv(\"../../data/medals_matches_players.csv\", header=True, inferSchema=True)"
   ]
  },
  {
   "cell_type": "code",
   "execution_count": 5,
   "metadata": {},
   "outputs": [],
   "source": [
    "with open(\"sql/ddl_match_details_bucketed.sql\", \"r\") as f:\n",
    "    ddl_match_details = f.read()\n"
   ]
  },
  {
   "cell_type": "code",
   "execution_count": 6,
   "metadata": {},
   "outputs": [
    {
     "name": "stdout",
     "output_type": "stream",
     "text": [
      "CREATE TABLE IF NOT EXISTS bootcamp.matches_bucketed (\n",
      "    match_id string,\n",
      "    player_gamertag string,\n",
      "    previous_spartan_rank integer,\n",
      "    spartan_rank integer,\n",
      "    previous_total_xp integer,\n",
      "    total_xp integer,\n",
      "    previous_csr_tier integer,\n",
      "    previous_csr_designation integer,\n",
      "    previous_csr integer,\n",
      "    previous_csr_percent_to_next_tier integer,\n",
      "    previous_csr_rank integer,\n",
      "    current_csr_tier integer,\n",
      "    current_csr_designation integer,\n",
      "    current_csr integer,\n",
      "    current_csr_percent_to_next_tier integer,\n",
      "    current_csr_rank integer,\n",
      "    player_rank_on_team integer,\n",
      "    player_finished boolean,\n",
      "    player_average_life string,\n",
      "    player_total_kills integer,\n",
      "    player_total_headshots integer,\n",
      "    player_total_weapon_damage double,\n",
      "    player_total_shots_landed integer,\n",
      "    player_total_melee_kills integer,\n",
      "    player_total_melee_damage double,\n",
      "    player_total_assassinations integer,\n",
      "    player_total_ground_pound_kills integer,\n",
      "    player_total_shoulder_bash_kills integer,\n",
      "    player_total_grenade_damage double,\n",
      "    player_total_power_weapon_damage double,\n",
      "    player_total_power_weapon_grabs integer,\n",
      "    player_total_deaths integer,\n",
      "    player_total_assists integer,\n",
      "    player_total_grenade_kills integer,\n",
      "    did_win integer,\n",
      "    team_id integer\n",
      ")\n",
      "PARTITIONED BY (bucket(16, match_id));\n",
      "\n"
     ]
    }
   ],
   "source": [
    "print(ddl_match_details)"
   ]
  },
  {
   "cell_type": "code",
   "execution_count": 7,
   "metadata": {},
   "outputs": [
    {
     "name": "stderr",
     "output_type": "stream",
     "text": [
      "24/12/05 20:35:15 WARN ResolveSessionCatalog: A Hive serde table will be created as there is no table provider specified. You can set spark.sql.legacy.createHiveTableByDefault to false so that native data source table will be created instead.\n"
     ]
    },
    {
     "ename": "AnalysisException",
     "evalue": "[NOT_SUPPORTED_COMMAND_WITHOUT_HIVE_SUPPORT] CREATE Hive TABLE (AS SELECT) is not supported, if you want to enable it, please set \"spark.sql.catalogImplementation\" to \"hive\".;\n'CreateTable `spark_catalog`.`bootcamp`.`matches_bucketed`, org.apache.hadoop.hive.serde2.lazy.LazySimpleSerDe, Ignore\n",
     "output_type": "error",
     "traceback": [
      "\u001b[0;31m---------------------------------------------------------------------------\u001b[0m",
      "\u001b[0;31mAnalysisException\u001b[0m                         Traceback (most recent call last)",
      "\u001b[1;32m/Users/sgarciv/repos_personales/data-engineer-handbook/bootcamp/materials/3-spark-fundamentals/homework/submission/spark_job.ipynb Cell 5\u001b[0m line \u001b[0;36m2\n\u001b[1;32m      <a href='vscode-notebook-cell:/Users/sgarciv/repos_personales/data-engineer-handbook/bootcamp/materials/3-spark-fundamentals/homework/submission/spark_job.ipynb#X10sZmlsZQ%3D%3D?line=0'>1</a>\u001b[0m spark\u001b[39m.\u001b[39msql(\u001b[39m\"\"\"\u001b[39m\u001b[39mDROP TABLE IF EXISTS bootcamp.match_details_bucketed\u001b[39m\u001b[39m\"\"\"\u001b[39m)\n\u001b[0;32m----> <a href='vscode-notebook-cell:/Users/sgarciv/repos_personales/data-engineer-handbook/bootcamp/materials/3-spark-fundamentals/homework/submission/spark_job.ipynb#X10sZmlsZQ%3D%3D?line=1'>2</a>\u001b[0m spark\u001b[39m.\u001b[39;49msql(ddl_match_details)\n",
      "File \u001b[0;32m~/repos_personales/data-engineer-handbook/bootcamp/materials/3-spark-fundamentals/.venv/lib/python3.9/site-packages/pyspark/sql/session.py:1631\u001b[0m, in \u001b[0;36mSparkSession.sql\u001b[0;34m(self, sqlQuery, args, **kwargs)\u001b[0m\n\u001b[1;32m   1627\u001b[0m         \u001b[39massert\u001b[39;00m \u001b[39mself\u001b[39m\u001b[39m.\u001b[39m_jvm \u001b[39mis\u001b[39;00m \u001b[39mnot\u001b[39;00m \u001b[39mNone\u001b[39;00m\n\u001b[1;32m   1628\u001b[0m         litArgs \u001b[39m=\u001b[39m \u001b[39mself\u001b[39m\u001b[39m.\u001b[39m_jvm\u001b[39m.\u001b[39mPythonUtils\u001b[39m.\u001b[39mtoArray(\n\u001b[1;32m   1629\u001b[0m             [_to_java_column(lit(v)) \u001b[39mfor\u001b[39;00m v \u001b[39min\u001b[39;00m (args \u001b[39mor\u001b[39;00m [])]\n\u001b[1;32m   1630\u001b[0m         )\n\u001b[0;32m-> 1631\u001b[0m     \u001b[39mreturn\u001b[39;00m DataFrame(\u001b[39mself\u001b[39;49m\u001b[39m.\u001b[39;49m_jsparkSession\u001b[39m.\u001b[39;49msql(sqlQuery, litArgs), \u001b[39mself\u001b[39m)\n\u001b[1;32m   1632\u001b[0m \u001b[39mfinally\u001b[39;00m:\n\u001b[1;32m   1633\u001b[0m     \u001b[39mif\u001b[39;00m \u001b[39mlen\u001b[39m(kwargs) \u001b[39m>\u001b[39m \u001b[39m0\u001b[39m:\n",
      "File \u001b[0;32m~/repos_personales/data-engineer-handbook/bootcamp/materials/3-spark-fundamentals/.venv/lib/python3.9/site-packages/py4j/java_gateway.py:1322\u001b[0m, in \u001b[0;36mJavaMember.__call__\u001b[0;34m(self, *args)\u001b[0m\n\u001b[1;32m   1316\u001b[0m command \u001b[39m=\u001b[39m proto\u001b[39m.\u001b[39mCALL_COMMAND_NAME \u001b[39m+\u001b[39m\\\n\u001b[1;32m   1317\u001b[0m     \u001b[39mself\u001b[39m\u001b[39m.\u001b[39mcommand_header \u001b[39m+\u001b[39m\\\n\u001b[1;32m   1318\u001b[0m     args_command \u001b[39m+\u001b[39m\\\n\u001b[1;32m   1319\u001b[0m     proto\u001b[39m.\u001b[39mEND_COMMAND_PART\n\u001b[1;32m   1321\u001b[0m answer \u001b[39m=\u001b[39m \u001b[39mself\u001b[39m\u001b[39m.\u001b[39mgateway_client\u001b[39m.\u001b[39msend_command(command)\n\u001b[0;32m-> 1322\u001b[0m return_value \u001b[39m=\u001b[39m get_return_value(\n\u001b[1;32m   1323\u001b[0m     answer, \u001b[39mself\u001b[39;49m\u001b[39m.\u001b[39;49mgateway_client, \u001b[39mself\u001b[39;49m\u001b[39m.\u001b[39;49mtarget_id, \u001b[39mself\u001b[39;49m\u001b[39m.\u001b[39;49mname)\n\u001b[1;32m   1325\u001b[0m \u001b[39mfor\u001b[39;00m temp_arg \u001b[39min\u001b[39;00m temp_args:\n\u001b[1;32m   1326\u001b[0m     \u001b[39mif\u001b[39;00m \u001b[39mhasattr\u001b[39m(temp_arg, \u001b[39m\"\u001b[39m\u001b[39m_detach\u001b[39m\u001b[39m\"\u001b[39m):\n",
      "File \u001b[0;32m~/repos_personales/data-engineer-handbook/bootcamp/materials/3-spark-fundamentals/.venv/lib/python3.9/site-packages/pyspark/errors/exceptions/captured.py:185\u001b[0m, in \u001b[0;36mcapture_sql_exception.<locals>.deco\u001b[0;34m(*a, **kw)\u001b[0m\n\u001b[1;32m    181\u001b[0m converted \u001b[39m=\u001b[39m convert_exception(e\u001b[39m.\u001b[39mjava_exception)\n\u001b[1;32m    182\u001b[0m \u001b[39mif\u001b[39;00m \u001b[39mnot\u001b[39;00m \u001b[39misinstance\u001b[39m(converted, UnknownException):\n\u001b[1;32m    183\u001b[0m     \u001b[39m# Hide where the exception came from that shows a non-Pythonic\u001b[39;00m\n\u001b[1;32m    184\u001b[0m     \u001b[39m# JVM exception message.\u001b[39;00m\n\u001b[0;32m--> 185\u001b[0m     \u001b[39mraise\u001b[39;00m converted \u001b[39mfrom\u001b[39;00m \u001b[39mNone\u001b[39;00m\n\u001b[1;32m    186\u001b[0m \u001b[39melse\u001b[39;00m:\n\u001b[1;32m    187\u001b[0m     \u001b[39mraise\u001b[39;00m\n",
      "\u001b[0;31mAnalysisException\u001b[0m: [NOT_SUPPORTED_COMMAND_WITHOUT_HIVE_SUPPORT] CREATE Hive TABLE (AS SELECT) is not supported, if you want to enable it, please set \"spark.sql.catalogImplementation\" to \"hive\".;\n'CreateTable `spark_catalog`.`bootcamp`.`matches_bucketed`, org.apache.hadoop.hive.serde2.lazy.LazySimpleSerDe, Ignore\n"
     ]
    }
   ],
   "source": [
    "spark.sql(\"\"\"DROP TABLE IF EXISTS bootcamp.match_details_bucketed\"\"\")\n",
    "spark.sql(ddl_match_details)"
   ]
  },
  {
   "cell_type": "code",
   "execution_count": 11,
   "metadata": {},
   "outputs": [
    {
     "name": "stdout",
     "output_type": "stream",
     "text": [
      "root\n",
      " |-- medal_id: long (nullable = true)\n",
      " |-- sprite_uri: string (nullable = true)\n",
      " |-- sprite_left: integer (nullable = true)\n",
      " |-- sprite_top: integer (nullable = true)\n",
      " |-- sprite_sheet_width: integer (nullable = true)\n",
      " |-- sprite_sheet_height: integer (nullable = true)\n",
      " |-- sprite_width: integer (nullable = true)\n",
      " |-- sprite_height: integer (nullable = true)\n",
      " |-- classification: string (nullable = true)\n",
      " |-- description: string (nullable = true)\n",
      " |-- name: string (nullable = true)\n",
      " |-- difficulty: integer (nullable = true)\n",
      "\n",
      "root\n",
      " |-- mapid: string (nullable = true)\n",
      " |-- name: string (nullable = true)\n",
      " |-- description: string (nullable = true)\n",
      "\n"
     ]
    }
   ],
   "source": []
  },
  {
   "cell_type": "code",
   "execution_count": 16,
   "metadata": {},
   "outputs": [
    {
     "name": "stdout",
     "output_type": "stream",
     "text": [
      "+----------+--------------------+-----------+----------+------------------+-------------------+------------+-------------+-----------------+--------------------+--------------+----------+\n",
      "|  medal_id|          sprite_uri|sprite_left|sprite_top|sprite_sheet_width|sprite_sheet_height|sprite_width|sprite_height|   classification|         description|          name|difficulty|\n",
      "+----------+--------------------+-----------+----------+------------------+-------------------+------------+-------------+-----------------+--------------------+--------------+----------+\n",
      "|2315448068|                NULL|       NULL|      NULL|              NULL|               NULL|        NULL|         NULL|             NULL|                NULL|          NULL|      NULL|\n",
      "|3565441934|                NULL|       NULL|      NULL|              NULL|               NULL|        NULL|         NULL|             NULL|                NULL|          NULL|      NULL|\n",
      "|4162659350|https://content.h...|        750|       750|                74|                 74|        1125|          899|         Breakout|Kill the last ene...| Buzzer Beater|        45|\n",
      "|1573153198|https://content.h...|          0|       300|                74|                 74|        1125|          899|         Breakout|Survive a one-on-...|    Vanquisher|        30|\n",
      "| 298813630|https://content.h...|          0|       825|                74|                 74|        1125|          899|            Style|Kill an enemy wit...|Spartan Charge|       135|\n",
      "|3824002610|https://content.h...|        750|       600|                74|                 74|        1125|          899|         Vehicles|Assist a player i...|  Ghost Assist|       140|\n",
      "|3324603383|https://content.h...|        225|       750|                74|                 74|        1125|          899|          Warzone|       Kill a Grunt.|    Grunt Kill|        60|\n",
      "| 979431049|https://content.h...|        975|       675|                74|                 74|        1125|          899|         Breakout|Survive a two-on-...|       Bifecta|        25|\n",
      "|3098362934|https://content.h...|        150|       750|                74|                 74|        1125|          899|WeaponProficiency|Kill a player in ...|  Perfect Kill|        25|\n",
      "|2435743433|https://content.h...|        750|       225|                74|                 74|        1125|          899|          Warzone|Kill an enemy in ...|  Base Defense|        30|\n",
      "|2430242797|https://content.h...|        675|       300|                74|                 74|        1125|          899|     KillingSpree|Kill 5 opponents ...| Killing Spree|        45|\n",
      "|1427531503|https://content.h...|        375|         0|                74|                 74|        1125|          899|            Style|Assist in a Team ...| Team Takedown|       245|\n",
      "|2359847435|https://content.h...|        525|       375|                74|                 74|        1125|          899|         Breakout|Kill every member...|    Extinction|        35|\n",
      "|1691836029|https://content.h...|        150|       375|                74|                 74|        1350|          824|            Style|Recharge your shi...|   Hard Target|       105|\n",
      "|2766284219|https://content.h...|        150|       525|                74|                 74|        1125|          899|            Style|Kill an opponent ...|     Quickdraw|       200|\n",
      "|3354395650|https://content.h...|        375|       600|                74|                 74|        1125|          899|      Strongholds|Capture 3 Strongh...| Capture Spree|        10|\n",
      "|2564994165|                NULL|       NULL|      NULL|              NULL|               NULL|        NULL|         NULL|WeaponProficiency|Pick up 3 power w...|Big Gun Runner|        75|\n",
      "|2896365521|https://content.h...|        300|       450|                74|                 74|        1125|          899|            Style|Assist in a Team ...| Team Takedown|       245|\n",
      "|3786961025|https://content.h...|        900|       450|                74|                 74|        1125|          899|            Style|Kill an opponent ...|      Fastball|        65|\n",
      "| 243900335|https://content.h...|        750|       375|                74|                 74|        1350|          824|WeaponProficiency|Kill an enemy by ...|  Shotgun Kill|       110|\n",
      "+----------+--------------------+-----------+----------+------------------+-------------------+------------+-------------+-----------------+--------------------+--------------+----------+\n",
      "only showing top 20 rows\n",
      "\n"
     ]
    }
   ],
   "source": [
    "medals.show()"
   ]
  },
  {
   "cell_type": "code",
   "execution_count": 17,
   "metadata": {},
   "outputs": [
    {
     "name": "stdout",
     "output_type": "stream",
     "text": [
      "+-----------------+-----+\n",
      "|   classification|count|\n",
      "+-----------------+-----+\n",
      "|             NULL|    2|\n",
      "|             Ball|    8|\n",
      "|         Breakout|   10|\n",
      "|   CaptureTheFlag|   13|\n",
      "|     KillingSpree|    9|\n",
      "|        MultiKill|   11|\n",
      "|      Strongholds|    5|\n",
      "|            Style|   51|\n",
      "|         Vehicles|   24|\n",
      "|          Warzone|   18|\n",
      "|WeaponProficiency|   32|\n",
      "+-----------------+-----+\n",
      "\n"
     ]
    }
   ],
   "source": [
    "# Count the number of rows per name in the medals dataframe and sort the result by the name\n",
    "medals.groupBy(\"classification\").count().sort(\"classification\").show()"
   ]
  },
  {
   "cell_type": "code",
   "execution_count": 15,
   "metadata": {},
   "outputs": [
    {
     "name": "stdout",
     "output_type": "stream",
     "text": [
      "+--------------------+------------------+--------------------+\n",
      "|               mapid|              name|         description|\n",
      "+--------------------+------------------+--------------------+\n",
      "|cc74f4e1-f206-11e...|              NULL|                NULL|\n",
      "|ce89a40f-f206-11e...|              NULL|                NULL|\n",
      "|5e130537-2275-40b...|              NULL|                NULL|\n",
      "|9a188f67-1664-4d7...|          Alliance|                NULL|\n",
      "|c74c9d0f-f206-11e...|            Alpine|These vistas are ...|\n",
      "|cae999f0-f206-11e...|             Array|Halo erased a hun...|\n",
      "|c96ff240-f206-11e...|  Battle of Noctus|The Andesian gove...|\n",
      "|8d72dd82-3afb-409...| Battle of Sunaion|                NULL|\n",
      "|2702ea83-2c3e-4fd...|  Before the Storm|                NULL|\n",
      "|96c3e3dd-7703-408...|         Blue Team|                NULL|\n",
      "|c7edbf0f-f206-11e...|    Breakout Arena|The broadcast of ...|\n",
      "|cebd854f-f206-11e...|          Coliseum|Forerunner Warrio...|\n",
      "|c89dae21-f206-11e...|          Dispatch|                NULL|\n",
      "|cd844200-f206-11e...|              Eden|Only now - years ...|\n",
      "|cdb934b0-f206-11e...|            Empire|Military-industri...|\n",
      "|f352eafd-d307-434...|       Enemy Lines|                NULL|\n",
      "|c8d69870-f206-11e...|Escape from A.R.C.|Scientists flocke...|\n",
      "|b486c8f6-0b00-4a4...|        Evacuation|                NULL|\n",
      "|cc040aa1-f206-11e...|            Fathom|The UNSC explores...|\n",
      "|82f8471c-a2ef-408...|           Genesis|                NULL|\n",
      "+--------------------+------------------+--------------------+\n",
      "only showing top 20 rows\n",
      "\n"
     ]
    }
   ],
   "source": [
    "maps.sort(\"name\").show()"
   ]
  },
  {
   "cell_type": "code",
   "execution_count": null,
   "metadata": {},
   "outputs": [],
   "source": []
  }
 ],
 "metadata": {
  "kernelspec": {
   "display_name": ".venv",
   "language": "python",
   "name": "python3"
  },
  "language_info": {
   "codemirror_mode": {
    "name": "ipython",
    "version": 3
   },
   "file_extension": ".py",
   "mimetype": "text/x-python",
   "name": "python",
   "nbconvert_exporter": "python",
   "pygments_lexer": "ipython3",
   "version": "3.9.12"
  }
 },
 "nbformat": 4,
 "nbformat_minor": 2
}
